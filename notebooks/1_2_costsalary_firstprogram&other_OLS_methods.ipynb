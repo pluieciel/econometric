{
  "nbformat": 4,
  "nbformat_minor": 0,
  "metadata": {
    "colab": {
      "name": "1-2. costsalary_firstprogram&other OLS methods",
      "version": "0.3.2",
      "provenance": [],
      "include_colab_link": true
    },
    "kernelspec": {
      "name": "python3",
      "display_name": "Python 3"
    }
  },
  "cells": [
    {
      "cell_type": "markdown",
      "metadata": {
        "id": "view-in-github",
        "colab_type": "text"
      },
      "source": [
        "<a href=\"https://colab.research.google.com/github/pluieciel/econometrics/blob/master/notebooks/1_2_costsalary_firstprogram%26other_OLS_methods.ipynb\" target=\"_parent\"><img src=\"https://colab.research.google.com/assets/colab-badge.svg\" alt=\"Open In Colab\"/></a>"
      ]
    },
    {
      "cell_type": "markdown",
      "metadata": {
        "id": "kReSFdD6WUEf",
        "colab_type": "text"
      },
      "source": [
        "Build environment:"
      ]
    },
    {
      "cell_type": "code",
      "metadata": {
        "id": "S61s2qzWWGx6",
        "colab_type": "code",
        "colab": {}
      },
      "source": [
        "    # -*- coding: utf-8 -*-\n",
        "import matplotlib.pyplot as plt\n",
        "import numpy as np\n",
        "import statsmodels.api as sm\n",
        "from io import StringIO  \n",
        "import urllib.request"
      ],
      "execution_count": 0,
      "outputs": []
    },
    {
      "cell_type": "markdown",
      "metadata": {
        "id": "blE3YwluWgCG",
        "colab_type": "text"
      },
      "source": [
        "Load data:\n",
        "\n",
        "(or from local path)\n",
        "my = np.loadtxt(open(r'C:\\Users\\xxxxx\\costsalary.csv','r'),delimiter=\";\",skiprows=1)"
      ]
    },
    {
      "cell_type": "code",
      "metadata": {
        "id": "_B6OjzrJWbNH",
        "colab_type": "code",
        "colab": {}
      },
      "source": [
        "data = urllib.request.urlopen('https://raw.githubusercontent.com/pluieciel/econometrics/master/data/costsalary.csv').read().decode('ascii', 'ignore')\n",
        "my = np.loadtxt(StringIO(data),delimiter=\";\",skiprows=1)\n",
        "x, y = zip(*my)\n",
        "X = sm.add_constant(x)"
      ],
      "execution_count": 0,
      "outputs": []
    },
    {
      "cell_type": "markdown",
      "metadata": {
        "id": "x3YwTlEYW-EG",
        "colab_type": "text"
      },
      "source": [
        "Method 1: statsmodels.api.OLS"
      ]
    },
    {
      "cell_type": "code",
      "metadata": {
        "id": "OHs1fz4iXBkA",
        "colab_type": "code",
        "outputId": "48c28291-8369-4bb0-a5db-eb7189b49807",
        "colab": {
          "base_uri": "https://localhost:8080/",
          "height": 773
        }
      },
      "source": [
        "results = sm.OLS(y,X).fit()\n",
        "print(results.summary())\n",
        "plt.plot(x,y,'bo',x,results.fittedvalues,'r')\n",
        "print(*results.params)"
      ],
      "execution_count": 0,
      "outputs": [
        {
          "output_type": "stream",
          "text": [
            "                            OLS Regression Results                            \n",
            "==============================================================================\n",
            "Dep. Variable:                      y   R-squared:                       0.137\n",
            "Model:                            OLS   Adj. R-squared:                  0.130\n",
            "Method:                 Least Squares   F-statistic:                     20.20\n",
            "Date:                Wed, 17 Jul 2019   Prob (F-statistic):           1.55e-05\n",
            "Time:                        19:15:28   Log-Likelihood:                -1393.7\n",
            "No. Observations:                 129   AIC:                             2791.\n",
            "Df Residuals:                     127   BIC:                             2797.\n",
            "Df Model:                           1                                         \n",
            "Covariance Type:            nonrobust                                         \n",
            "==============================================================================\n",
            "                 coef    std err          t      P>|t|      [0.025      0.975]\n",
            "------------------------------------------------------------------------------\n",
            "const       2.635e+04   5214.053      5.053      0.000     1.6e+04    3.67e+04\n",
            "x1             0.7796      0.173      4.495      0.000       0.436       1.123\n",
            "==============================================================================\n",
            "Omnibus:                       20.434   Durbin-Watson:                   2.105\n",
            "Prob(Omnibus):                  0.000   Jarque-Bera (JB):               26.266\n",
            "Skew:                           0.889   Prob(JB):                     1.98e-06\n",
            "Kurtosis:                       4.313   Cond. No.                     1.48e+05\n",
            "==============================================================================\n",
            "\n",
            "Warnings:\n",
            "[1] Standard Errors assume that the covariance matrix of the errors is correctly specified.\n",
            "[2] The condition number is large, 1.48e+05. This might indicate that there are\n",
            "strong multicollinearity or other numerical problems.\n",
            "26345.69542346281 0.7795671600719681\n"
          ],
          "name": "stdout"
        },
        {
          "output_type": "display_data",
          "data": {
            "image/png": "[encoded data removed]",
            "text/plain": [
              "<Figure size 432x288 with 1 Axes>"
            ]
          },
          "metadata": {
            "tags": []
          }
        }
      ]
    },
    {
      "cell_type": "markdown",
      "metadata": {
        "id": "DCzUpVpfXs3n",
        "colab_type": "text"
      },
      "source": [
        "Method 2: normal equation: alpha and beta θ=(X.T*X).I*X.T*y"
      ]
    },
    {
      "cell_type": "code",
      "metadata": {
        "id": "DezJutKiXsYo",
        "colab_type": "code",
        "outputId": "bcac4789-14cb-4dbd-8dd3-9cd210e802e5",
        "colab": {
          "base_uri": "https://localhost:8080/",
          "height": 35
        }
      },
      "source": [
        "A=(np.mat(X).T*np.mat(X)).I*np.mat(X).T*np.mat(y).T   \n",
        "a,b=A[0,0],A[1,0]\n",
        "print(a,b)"
      ],
      "execution_count": 0,
      "outputs": [
        {
          "output_type": "stream",
          "text": [
            "26345.695423462752 0.7795671600719697\n"
          ],
          "name": "stdout"
        }
      ]
    },
    {
      "cell_type": "markdown",
      "metadata": {
        "id": "9y_YuSaxX6Xd",
        "colab_type": "text"
      },
      "source": [
        "Method 3: beta=Cov/Var"
      ]
    },
    {
      "cell_type": "code",
      "metadata": {
        "id": "yeTWNk6NX-s1",
        "colab_type": "code",
        "outputId": "ee2a6860-0fad-4eaf-9495-cb4d4a79fa19",
        "colab": {
          "base_uri": "https://localhost:8080/",
          "height": 35
        }
      },
      "source": [
        "beta= np.cov(x,y)[1][0]/np.cov(x,y)[0][0]\n",
        "alpha=np.mean(y)-beta*np.mean(x)\n",
        "print(alpha,beta)"
      ],
      "execution_count": 0,
      "outputs": [
        {
          "output_type": "stream",
          "text": [
            "26345.695423462876 0.7795671600719656\n"
          ],
          "name": "stdout"
        }
      ]
    }
  ]
}